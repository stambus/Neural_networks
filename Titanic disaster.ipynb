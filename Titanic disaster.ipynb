{
    "nbformat_minor": 1, 
    "cells": [
        {
            "execution_count": 1, 
            "cell_type": "code", 
            "metadata": {}, 
            "outputs": [
                {
                    "output_type": "stream", 
                    "name": "stderr", 
                    "text": "Using TensorFlow backend.\n"
                }
            ], 
            "source": "import keras\nfrom keras.models import Sequential\nfrom keras.layers import Dense\nfrom keras.utils import to_categorical\nimport pandas as pd\nimport numpy as np\nimport matplotlib.pyplot as plt"
        }, 
        {
            "execution_count": 2, 
            "cell_type": "code", 
            "metadata": {}, 
            "outputs": [
                {
                    "execution_count": 2, 
                    "metadata": {}, 
                    "data": {
                        "text/html": "<div>\n<style scoped>\n    .dataframe tbody tr th:only-of-type {\n        vertical-align: middle;\n    }\n\n    .dataframe tbody tr th {\n        vertical-align: top;\n    }\n\n    .dataframe thead th {\n        text-align: right;\n    }\n</style>\n<table border=\"1\" class=\"dataframe\">\n  <thead>\n    <tr style=\"text-align: right;\">\n      <th></th>\n      <th>PassengerId</th>\n      <th>Pclass</th>\n      <th>Name</th>\n      <th>Sex</th>\n      <th>Age</th>\n      <th>SibSp</th>\n      <th>Parch</th>\n      <th>Ticket</th>\n      <th>Fare</th>\n      <th>Cabin</th>\n      <th>Embarked</th>\n    </tr>\n  </thead>\n  <tbody>\n    <tr>\n      <th>0</th>\n      <td>892</td>\n      <td>3</td>\n      <td>Kelly, Mr. James</td>\n      <td>male</td>\n      <td>34.5</td>\n      <td>0</td>\n      <td>0</td>\n      <td>330911</td>\n      <td>7.8292</td>\n      <td>NaN</td>\n      <td>Q</td>\n    </tr>\n    <tr>\n      <th>1</th>\n      <td>893</td>\n      <td>3</td>\n      <td>Wilkes, Mrs. James (Ellen Needs)</td>\n      <td>female</td>\n      <td>47.0</td>\n      <td>1</td>\n      <td>0</td>\n      <td>363272</td>\n      <td>7.0000</td>\n      <td>NaN</td>\n      <td>S</td>\n    </tr>\n    <tr>\n      <th>2</th>\n      <td>894</td>\n      <td>2</td>\n      <td>Myles, Mr. Thomas Francis</td>\n      <td>male</td>\n      <td>62.0</td>\n      <td>0</td>\n      <td>0</td>\n      <td>240276</td>\n      <td>9.6875</td>\n      <td>NaN</td>\n      <td>Q</td>\n    </tr>\n    <tr>\n      <th>3</th>\n      <td>895</td>\n      <td>3</td>\n      <td>Wirz, Mr. Albert</td>\n      <td>male</td>\n      <td>27.0</td>\n      <td>0</td>\n      <td>0</td>\n      <td>315154</td>\n      <td>8.6625</td>\n      <td>NaN</td>\n      <td>S</td>\n    </tr>\n    <tr>\n      <th>4</th>\n      <td>896</td>\n      <td>3</td>\n      <td>Hirvonen, Mrs. Alexander (Helga E Lindqvist)</td>\n      <td>female</td>\n      <td>22.0</td>\n      <td>1</td>\n      <td>1</td>\n      <td>3101298</td>\n      <td>12.2875</td>\n      <td>NaN</td>\n      <td>S</td>\n    </tr>\n  </tbody>\n</table>\n</div>", 
                        "text/plain": "   PassengerId  Pclass                                          Name     Sex  \\\n0          892       3                              Kelly, Mr. James    male   \n1          893       3              Wilkes, Mrs. James (Ellen Needs)  female   \n2          894       2                     Myles, Mr. Thomas Francis    male   \n3          895       3                              Wirz, Mr. Albert    male   \n4          896       3  Hirvonen, Mrs. Alexander (Helga E Lindqvist)  female   \n\n    Age  SibSp  Parch   Ticket     Fare Cabin Embarked  \n0  34.5      0      0   330911   7.8292   NaN        Q  \n1  47.0      1      0   363272   7.0000   NaN        S  \n2  62.0      0      0   240276   9.6875   NaN        Q  \n3  27.0      0      0   315154   8.6625   NaN        S  \n4  22.0      1      1  3101298  12.2875   NaN        S  "
                    }, 
                    "output_type": "execute_result"
                }
            ], 
            "source": "# The code was removed by Watson Studio for sharing."
        }, 
        {
            "execution_count": 3, 
            "cell_type": "code", 
            "metadata": {}, 
            "outputs": [
                {
                    "execution_count": 3, 
                    "metadata": {}, 
                    "data": {
                        "text/html": "<div>\n<style scoped>\n    .dataframe tbody tr th:only-of-type {\n        vertical-align: middle;\n    }\n\n    .dataframe tbody tr th {\n        vertical-align: top;\n    }\n\n    .dataframe thead th {\n        text-align: right;\n    }\n</style>\n<table border=\"1\" class=\"dataframe\">\n  <thead>\n    <tr style=\"text-align: right;\">\n      <th></th>\n      <th>PassengerId</th>\n      <th>Survived</th>\n      <th>Pclass</th>\n      <th>Name</th>\n      <th>Sex</th>\n      <th>Age</th>\n      <th>SibSp</th>\n      <th>Parch</th>\n      <th>Ticket</th>\n      <th>Fare</th>\n      <th>Cabin</th>\n      <th>Embarked</th>\n    </tr>\n  </thead>\n  <tbody>\n    <tr>\n      <th>0</th>\n      <td>1</td>\n      <td>0</td>\n      <td>3</td>\n      <td>Braund, Mr. Owen Harris</td>\n      <td>male</td>\n      <td>22.0</td>\n      <td>1</td>\n      <td>0</td>\n      <td>A/5 21171</td>\n      <td>7.2500</td>\n      <td>NaN</td>\n      <td>S</td>\n    </tr>\n    <tr>\n      <th>1</th>\n      <td>2</td>\n      <td>1</td>\n      <td>1</td>\n      <td>Cumings, Mrs. John Bradley (Florence Briggs Th...</td>\n      <td>female</td>\n      <td>38.0</td>\n      <td>1</td>\n      <td>0</td>\n      <td>PC 17599</td>\n      <td>71.2833</td>\n      <td>C85</td>\n      <td>C</td>\n    </tr>\n    <tr>\n      <th>2</th>\n      <td>3</td>\n      <td>1</td>\n      <td>3</td>\n      <td>Heikkinen, Miss. Laina</td>\n      <td>female</td>\n      <td>26.0</td>\n      <td>0</td>\n      <td>0</td>\n      <td>STON/O2. 3101282</td>\n      <td>7.9250</td>\n      <td>NaN</td>\n      <td>S</td>\n    </tr>\n    <tr>\n      <th>3</th>\n      <td>4</td>\n      <td>1</td>\n      <td>1</td>\n      <td>Futrelle, Mrs. Jacques Heath (Lily May Peel)</td>\n      <td>female</td>\n      <td>35.0</td>\n      <td>1</td>\n      <td>0</td>\n      <td>113803</td>\n      <td>53.1000</td>\n      <td>C123</td>\n      <td>S</td>\n    </tr>\n    <tr>\n      <th>4</th>\n      <td>5</td>\n      <td>0</td>\n      <td>3</td>\n      <td>Allen, Mr. William Henry</td>\n      <td>male</td>\n      <td>35.0</td>\n      <td>0</td>\n      <td>0</td>\n      <td>373450</td>\n      <td>8.0500</td>\n      <td>NaN</td>\n      <td>S</td>\n    </tr>\n  </tbody>\n</table>\n</div>", 
                        "text/plain": "   PassengerId  Survived  Pclass  \\\n0            1         0       3   \n1            2         1       1   \n2            3         1       3   \n3            4         1       1   \n4            5         0       3   \n\n                                                Name     Sex   Age  SibSp  \\\n0                            Braund, Mr. Owen Harris    male  22.0      1   \n1  Cumings, Mrs. John Bradley (Florence Briggs Th...  female  38.0      1   \n2                             Heikkinen, Miss. Laina  female  26.0      0   \n3       Futrelle, Mrs. Jacques Heath (Lily May Peel)  female  35.0      1   \n4                           Allen, Mr. William Henry    male  35.0      0   \n\n   Parch            Ticket     Fare Cabin Embarked  \n0      0         A/5 21171   7.2500   NaN        S  \n1      0          PC 17599  71.2833   C85        C  \n2      0  STON/O2. 3101282   7.9250   NaN        S  \n3      0            113803  53.1000  C123        S  \n4      0            373450   8.0500   NaN        S  "
                    }, 
                    "output_type": "execute_result"
                }
            ], 
            "source": "train_body = client_34618b67087348bc93a2e29e3a80b20d.get_object(Bucket='kaggle-donotdelete-pr-f8uklxjuxuvozp',Key='train.csv')['Body']\n# add missing __iter__ method, so pandas accepts body as file-like object\nif not hasattr(train_body, \"__iter__\"): train_body.__iter__ = types.MethodType( __iter__, train_body )\n\ntrain = pd.read_csv(train_body)\ntrain.head()"
        }, 
        {
            "execution_count": 4, 
            "cell_type": "code", 
            "metadata": {}, 
            "outputs": [
                {
                    "execution_count": 4, 
                    "metadata": {}, 
                    "data": {
                        "text/plain": "(714, 7)"
                    }, 
                    "output_type": "execute_result"
                }
            ], 
            "source": "train = train[['Pclass','Sex','Age','SibSp','Parch','Fare','Survived']]\ntrain.dropna(inplace=True)\ntrain.shape"
        }, 
        {
            "execution_count": 5, 
            "cell_type": "code", 
            "metadata": {}, 
            "outputs": [
                {
                    "output_type": "stream", 
                    "name": "stderr", 
                    "text": "/opt/conda/envs/Python36/lib/python3.6/site-packages/ipykernel/__main__.py:2: SettingWithCopyWarning: \nA value is trying to be set on a copy of a slice from a DataFrame\n\nSee the caveats in the documentation: http://pandas.pydata.org/pandas-docs/stable/indexing.html#indexing-view-versus-copy\n  from ipykernel import kernelapp as app\n/opt/conda/envs/Python36/lib/python3.6/site-packages/pandas/core/generic.py:6586: SettingWithCopyWarning: \nA value is trying to be set on a copy of a slice from a DataFrame\n\nSee the caveats in the documentation: http://pandas.pydata.org/pandas-docs/stable/indexing.html#indexing-view-versus-copy\n  self._update_inplace(new_data)\n/opt/conda/envs/Python36/lib/python3.6/site-packages/ipykernel/__main__.py:4: SettingWithCopyWarning: \nA value is trying to be set on a copy of a slice from a DataFrame.\nTry using .loc[row_indexer,col_indexer] = value instead\n\nSee the caveats in the documentation: http://pandas.pydata.org/pandas-docs/stable/indexing.html#indexing-view-versus-copy\n/opt/conda/envs/Python36/lib/python3.6/site-packages/ipykernel/__main__.py:5: SettingWithCopyWarning: \nA value is trying to be set on a copy of a slice from a DataFrame.\nTry using .loc[row_indexer,col_indexer] = value instead\n\nSee the caveats in the documentation: http://pandas.pydata.org/pandas-docs/stable/indexing.html#indexing-view-versus-copy\n/opt/conda/envs/Python36/lib/python3.6/site-packages/ipykernel/__main__.py:6: SettingWithCopyWarning: \nA value is trying to be set on a copy of a slice from a DataFrame.\nTry using .loc[row_indexer,col_indexer] = value instead\n\nSee the caveats in the documentation: http://pandas.pydata.org/pandas-docs/stable/indexing.html#indexing-view-versus-copy\n"
                }, 
                {
                    "execution_count": 5, 
                    "metadata": {}, 
                    "data": {
                        "text/html": "<div>\n<style scoped>\n    .dataframe tbody tr th:only-of-type {\n        vertical-align: middle;\n    }\n\n    .dataframe tbody tr th {\n        vertical-align: top;\n    }\n\n    .dataframe thead th {\n        text-align: right;\n    }\n</style>\n<table border=\"1\" class=\"dataframe\">\n  <thead>\n    <tr style=\"text-align: right;\">\n      <th></th>\n      <th>Pclass</th>\n      <th>Sex</th>\n      <th>Age</th>\n      <th>SibSp</th>\n      <th>Parch</th>\n      <th>Fare</th>\n    </tr>\n  </thead>\n  <tbody>\n    <tr>\n      <th>0</th>\n      <td>1.000000</td>\n      <td>1</td>\n      <td>0.2750</td>\n      <td>1</td>\n      <td>0</td>\n      <td>0.014151</td>\n    </tr>\n    <tr>\n      <th>1</th>\n      <td>0.333333</td>\n      <td>0</td>\n      <td>0.4750</td>\n      <td>1</td>\n      <td>0</td>\n      <td>0.139136</td>\n    </tr>\n    <tr>\n      <th>2</th>\n      <td>1.000000</td>\n      <td>0</td>\n      <td>0.3250</td>\n      <td>0</td>\n      <td>0</td>\n      <td>0.015469</td>\n    </tr>\n    <tr>\n      <th>3</th>\n      <td>0.333333</td>\n      <td>0</td>\n      <td>0.4375</td>\n      <td>1</td>\n      <td>0</td>\n      <td>0.103644</td>\n    </tr>\n    <tr>\n      <th>4</th>\n      <td>1.000000</td>\n      <td>1</td>\n      <td>0.4375</td>\n      <td>0</td>\n      <td>0</td>\n      <td>0.015713</td>\n    </tr>\n  </tbody>\n</table>\n</div>", 
                        "text/plain": "     Pclass  Sex     Age  SibSp  Parch      Fare\n0  1.000000    1  0.2750      1      0  0.014151\n1  0.333333    0  0.4750      1      0  0.139136\n2  1.000000    0  0.3250      0      0  0.015469\n3  0.333333    0  0.4375      1      0  0.103644\n4  1.000000    1  0.4375      0      0  0.015713"
                    }, 
                    "output_type": "execute_result"
                }
            ], 
            "source": "x_train = train[['Pclass','Sex','Age','SibSp','Parch','Fare']]\nx_train.dropna(inplace=True)\nx_train['Sex'].replace({'female':0, 'male':1}, inplace=True)\nx_train['Age'] = x_train['Age'] / np.max(x_train['Age'])\nx_train['Pclass'] = x_train['Pclass'] / np.max(x_train['Pclass'])\nx_train['Fare'] = x_train['Fare'] / np.max(x_train['Fare'])\nx_train.head()"
        }, 
        {
            "execution_count": 6, 
            "cell_type": "code", 
            "metadata": {}, 
            "outputs": [
                {
                    "output_type": "stream", 
                    "name": "stderr", 
                    "text": "/opt/conda/envs/Python36/lib/python3.6/site-packages/ipykernel/__main__.py:2: SettingWithCopyWarning: \nA value is trying to be set on a copy of a slice from a DataFrame\n\nSee the caveats in the documentation: http://pandas.pydata.org/pandas-docs/stable/indexing.html#indexing-view-versus-copy\n  from ipykernel import kernelapp as app\n/opt/conda/envs/Python36/lib/python3.6/site-packages/ipykernel/__main__.py:4: SettingWithCopyWarning: \nA value is trying to be set on a copy of a slice from a DataFrame.\nTry using .loc[row_indexer,col_indexer] = value instead\n\nSee the caveats in the documentation: http://pandas.pydata.org/pandas-docs/stable/indexing.html#indexing-view-versus-copy\n/opt/conda/envs/Python36/lib/python3.6/site-packages/ipykernel/__main__.py:5: SettingWithCopyWarning: \nA value is trying to be set on a copy of a slice from a DataFrame.\nTry using .loc[row_indexer,col_indexer] = value instead\n\nSee the caveats in the documentation: http://pandas.pydata.org/pandas-docs/stable/indexing.html#indexing-view-versus-copy\n/opt/conda/envs/Python36/lib/python3.6/site-packages/ipykernel/__main__.py:6: SettingWithCopyWarning: \nA value is trying to be set on a copy of a slice from a DataFrame.\nTry using .loc[row_indexer,col_indexer] = value instead\n\nSee the caveats in the documentation: http://pandas.pydata.org/pandas-docs/stable/indexing.html#indexing-view-versus-copy\n"
                }, 
                {
                    "execution_count": 6, 
                    "metadata": {}, 
                    "data": {
                        "text/html": "<div>\n<style scoped>\n    .dataframe tbody tr th:only-of-type {\n        vertical-align: middle;\n    }\n\n    .dataframe tbody tr th {\n        vertical-align: top;\n    }\n\n    .dataframe thead th {\n        text-align: right;\n    }\n</style>\n<table border=\"1\" class=\"dataframe\">\n  <thead>\n    <tr style=\"text-align: right;\">\n      <th></th>\n      <th>PassengerId</th>\n      <th>Pclass</th>\n      <th>Sex</th>\n      <th>Age</th>\n      <th>SibSp</th>\n      <th>Parch</th>\n      <th>Fare</th>\n    </tr>\n  </thead>\n  <tbody>\n    <tr>\n      <th>0</th>\n      <td>892</td>\n      <td>1.000000</td>\n      <td>1</td>\n      <td>0.453947</td>\n      <td>0</td>\n      <td>0</td>\n      <td>0.015282</td>\n    </tr>\n    <tr>\n      <th>1</th>\n      <td>893</td>\n      <td>1.000000</td>\n      <td>0</td>\n      <td>0.618421</td>\n      <td>1</td>\n      <td>0</td>\n      <td>0.013663</td>\n    </tr>\n    <tr>\n      <th>2</th>\n      <td>894</td>\n      <td>0.666667</td>\n      <td>1</td>\n      <td>0.815789</td>\n      <td>0</td>\n      <td>0</td>\n      <td>0.018909</td>\n    </tr>\n    <tr>\n      <th>3</th>\n      <td>895</td>\n      <td>1.000000</td>\n      <td>1</td>\n      <td>0.355263</td>\n      <td>0</td>\n      <td>0</td>\n      <td>0.016908</td>\n    </tr>\n    <tr>\n      <th>4</th>\n      <td>896</td>\n      <td>1.000000</td>\n      <td>0</td>\n      <td>0.289474</td>\n      <td>1</td>\n      <td>1</td>\n      <td>0.023984</td>\n    </tr>\n  </tbody>\n</table>\n</div>", 
                        "text/plain": "   PassengerId    Pclass  Sex       Age  SibSp  Parch      Fare\n0          892  1.000000    1  0.453947      0      0  0.015282\n1          893  1.000000    0  0.618421      1      0  0.013663\n2          894  0.666667    1  0.815789      0      0  0.018909\n3          895  1.000000    1  0.355263      0      0  0.016908\n4          896  1.000000    0  0.289474      1      1  0.023984"
                    }, 
                    "output_type": "execute_result"
                }
            ], 
            "source": "x_test = test[['PassengerId','Pclass','Sex','Age','SibSp','Parch','Fare']]\nx_test.dropna(inplace=True)\nx_test['Sex'].replace({'female':0, 'male':1}, inplace=True)\nx_test['Age'] = x_test['Age'] / np.max(x_test['Age'])\nx_test['Pclass'] = x_test['Pclass'] / np.max(x_test['Pclass'])\nx_test['Fare'] = x_test['Fare'] / np.max(x_test['Fare'])\nx_test.head()"
        }, 
        {
            "execution_count": 7, 
            "cell_type": "code", 
            "metadata": {}, 
            "outputs": [
                {
                    "execution_count": 7, 
                    "metadata": {}, 
                    "data": {
                        "text/plain": "(714,)"
                    }, 
                    "output_type": "execute_result"
                }
            ], 
            "source": "y_train = train['Survived']\ny_train.dropna(inplace=True)\ny_train.shape"
        }, 
        {
            "execution_count": 8, 
            "cell_type": "code", 
            "metadata": {}, 
            "outputs": [], 
            "source": "n_cols = x_train.shape[1]"
        }, 
        {
            "execution_count": 9, 
            "cell_type": "code", 
            "metadata": {}, 
            "outputs": [], 
            "source": "# define regression model\ndef regression_model():\n    # create model\n    model = Sequential()\n    model.add(Dense(50, activation='relu', input_shape=(n_cols,)))\n    model.add(Dense(50, activation='relu'))\n    model.add(Dense(1, activation='relu'))\n    \n    # compile model\n    model.compile(optimizer='adam', loss='mean_squared_error', metrics=['accuracy'])\n    return model"
        }, 
        {
            "execution_count": 10, 
            "cell_type": "code", 
            "metadata": {}, 
            "outputs": [
                {
                    "output_type": "stream", 
                    "name": "stdout", 
                    "text": "WARNING:tensorflow:From /opt/conda/envs/Python36/lib/python3.6/site-packages/tensorflow/python/framework/op_def_library.py:263: colocate_with (from tensorflow.python.framework.ops) is deprecated and will be removed in a future version.\nInstructions for updating:\nColocations handled automatically by placer.\n"
                }
            ], 
            "source": "# build the model\nour_model = regression_model()"
        }, 
        {
            "execution_count": 11, 
            "cell_type": "code", 
            "metadata": {}, 
            "outputs": [
                {
                    "output_type": "stream", 
                    "name": "stdout", 
                    "text": "WARNING:tensorflow:From /opt/conda/envs/Python36/lib/python3.6/site-packages/tensorflow/python/ops/math_ops.py:3066: to_int32 (from tensorflow.python.ops.math_ops) is deprecated and will be removed in a future version.\nInstructions for updating:\nUse tf.cast instead.\nTrain on 499 samples, validate on 215 samples\nEpoch 1/50\n499/499 [==============================] - 1s 2ms/step - loss: 0.3265 - acc: 0.5832 - val_loss: 0.2642 - val_acc: 0.5721\nEpoch 2/50\n499/499 [==============================] - 0s 825us/step - loss: 0.2428 - acc: 0.5872 - val_loss: 0.2249 - val_acc: 0.6419\nEpoch 3/50\n499/499 [==============================] - 0s 720us/step - loss: 0.2118 - acc: 0.6834 - val_loss: 0.2058 - val_acc: 0.7535\nEpoch 4/50\n499/499 [==============================] - 0s 525us/step - loss: 0.1934 - acc: 0.7655 - val_loss: 0.1874 - val_acc: 0.7674\nEpoch 5/50\n499/499 [==============================] - 0s 481us/step - loss: 0.1846 - acc: 0.7735 - val_loss: 0.1775 - val_acc: 0.7860\nEpoch 6/50\n499/499 [==============================] - 0s 520us/step - loss: 0.1784 - acc: 0.7776 - val_loss: 0.1700 - val_acc: 0.7907\nEpoch 7/50\n499/499 [==============================] - 1s 2ms/step - loss: 0.1738 - acc: 0.7756 - val_loss: 0.1671 - val_acc: 0.7860\nEpoch 8/50\n499/499 [==============================] - 0s 480us/step - loss: 0.1713 - acc: 0.7836 - val_loss: 0.1637 - val_acc: 0.7814\nEpoch 9/50\n499/499 [==============================] - 1s 1ms/step - loss: 0.1691 - acc: 0.7816 - val_loss: 0.1627 - val_acc: 0.7721\nEpoch 10/50\n499/499 [==============================] - 0s 483us/step - loss: 0.1628 - acc: 0.7836 - val_loss: 0.1577 - val_acc: 0.7860\nEpoch 11/50\n499/499 [==============================] - 0s 533us/step - loss: 0.1657 - acc: 0.7876 - val_loss: 0.1563 - val_acc: 0.7814\nEpoch 12/50\n499/499 [==============================] - 1s 1ms/step - loss: 0.1629 - acc: 0.7856 - val_loss: 0.1520 - val_acc: 0.7814\nEpoch 13/50\n499/499 [==============================] - 0s 477us/step - loss: 0.1598 - acc: 0.7896 - val_loss: 0.1511 - val_acc: 0.7860\nEpoch 14/50\n499/499 [==============================] - 0s 484us/step - loss: 0.1569 - acc: 0.7756 - val_loss: 0.1477 - val_acc: 0.7814\nEpoch 15/50\n499/499 [==============================] - 0s 507us/step - loss: 0.1558 - acc: 0.7876 - val_loss: 0.1468 - val_acc: 0.7953\nEpoch 16/50\n499/499 [==============================] - 0s 477us/step - loss: 0.1558 - acc: 0.7856 - val_loss: 0.1458 - val_acc: 0.7860\nEpoch 17/50\n499/499 [==============================] - 0s 481us/step - loss: 0.1541 - acc: 0.7896 - val_loss: 0.1464 - val_acc: 0.7953\nEpoch 18/50\n499/499 [==============================] - 0s 521us/step - loss: 0.1517 - acc: 0.7916 - val_loss: 0.1439 - val_acc: 0.7814\nEpoch 19/50\n499/499 [==============================] - 0s 603us/step - loss: 0.1516 - acc: 0.7936 - val_loss: 0.1410 - val_acc: 0.7953\nEpoch 20/50\n499/499 [==============================] - 0s 519us/step - loss: 0.1503 - acc: 0.7936 - val_loss: 0.1420 - val_acc: 0.7814\nEpoch 21/50\n499/499 [==============================] - 0s 477us/step - loss: 0.1477 - acc: 0.7956 - val_loss: 0.1393 - val_acc: 0.8047\nEpoch 22/50\n499/499 [==============================] - 0s 550us/step - loss: 0.1477 - acc: 0.7996 - val_loss: 0.1385 - val_acc: 0.7953\nEpoch 23/50\n499/499 [==============================] - 0s 486us/step - loss: 0.1466 - acc: 0.7956 - val_loss: 0.1373 - val_acc: 0.7953\nEpoch 24/50\n499/499 [==============================] - 0s 522us/step - loss: 0.1477 - acc: 0.7936 - val_loss: 0.1385 - val_acc: 0.8047\nEpoch 25/50\n499/499 [==============================] - 0s 510us/step - loss: 0.1467 - acc: 0.7956 - val_loss: 0.1373 - val_acc: 0.8000\nEpoch 26/50\n499/499 [==============================] - 0s 606us/step - loss: 0.1445 - acc: 0.8036 - val_loss: 0.1362 - val_acc: 0.8047\nEpoch 27/50\n499/499 [==============================] - 0s 542us/step - loss: 0.1433 - acc: 0.8076 - val_loss: 0.1336 - val_acc: 0.8140\nEpoch 28/50\n499/499 [==============================] - 0s 479us/step - loss: 0.1428 - acc: 0.8056 - val_loss: 0.1342 - val_acc: 0.7953\nEpoch 29/50\n499/499 [==============================] - 0s 546us/step - loss: 0.1492 - acc: 0.8036 - val_loss: 0.1364 - val_acc: 0.8000\nEpoch 30/50\n499/499 [==============================] - 0s 503us/step - loss: 0.1426 - acc: 0.8096 - val_loss: 0.1320 - val_acc: 0.8233\nEpoch 31/50\n499/499 [==============================] - 0s 447us/step - loss: 0.1407 - acc: 0.8176 - val_loss: 0.1321 - val_acc: 0.8186\nEpoch 32/50\n499/499 [==============================] - 0s 511us/step - loss: 0.1411 - acc: 0.8116 - val_loss: 0.1311 - val_acc: 0.8186\nEpoch 33/50\n499/499 [==============================] - 0s 520us/step - loss: 0.1419 - acc: 0.8116 - val_loss: 0.1318 - val_acc: 0.8233\nEpoch 34/50\n499/499 [==============================] - 0s 558us/step - loss: 0.1398 - acc: 0.8176 - val_loss: 0.1329 - val_acc: 0.8047\nEpoch 35/50\n499/499 [==============================] - 0s 575us/step - loss: 0.1394 - acc: 0.8176 - val_loss: 0.1304 - val_acc: 0.8186\nEpoch 36/50\n499/499 [==============================] - 0s 500us/step - loss: 0.1407 - acc: 0.8156 - val_loss: 0.1318 - val_acc: 0.8186\nEpoch 37/50\n499/499 [==============================] - 0s 536us/step - loss: 0.1397 - acc: 0.8116 - val_loss: 0.1320 - val_acc: 0.8186\nEpoch 38/50\n499/499 [==============================] - 0s 466us/step - loss: 0.1391 - acc: 0.8096 - val_loss: 0.1330 - val_acc: 0.8233\nEpoch 39/50\n499/499 [==============================] - 0s 489us/step - loss: 0.1384 - acc: 0.8136 - val_loss: 0.1309 - val_acc: 0.8186\nEpoch 40/50\n499/499 [==============================] - 0s 505us/step - loss: 0.1370 - acc: 0.8136 - val_loss: 0.1292 - val_acc: 0.8233\nEpoch 41/50\n499/499 [==============================] - 0s 488us/step - loss: 0.1374 - acc: 0.8156 - val_loss: 0.1286 - val_acc: 0.8233\nEpoch 42/50\n499/499 [==============================] - 0s 490us/step - loss: 0.1387 - acc: 0.8076 - val_loss: 0.1301 - val_acc: 0.8233\nEpoch 43/50\n499/499 [==============================] - 0s 542us/step - loss: 0.1355 - acc: 0.8236 - val_loss: 0.1280 - val_acc: 0.8233\nEpoch 44/50\n499/499 [==============================] - 0s 483us/step - loss: 0.1359 - acc: 0.8236 - val_loss: 0.1295 - val_acc: 0.8279\nEpoch 45/50\n499/499 [==============================] - 0s 531us/step - loss: 0.1367 - acc: 0.8236 - val_loss: 0.1345 - val_acc: 0.8233\nEpoch 46/50\n499/499 [==============================] - 0s 478us/step - loss: 0.1349 - acc: 0.8216 - val_loss: 0.1295 - val_acc: 0.8279\nEpoch 47/50\n499/499 [==============================] - 1s 2ms/step - loss: 0.1349 - acc: 0.8176 - val_loss: 0.1283 - val_acc: 0.8326\nEpoch 48/50\n499/499 [==============================] - 0s 509us/step - loss: 0.1357 - acc: 0.8176 - val_loss: 0.1288 - val_acc: 0.8233\nEpoch 49/50\n499/499 [==============================] - 0s 477us/step - loss: 0.1364 - acc: 0.8196 - val_loss: 0.1278 - val_acc: 0.8233\nEpoch 50/50\n499/499 [==============================] - 0s 531us/step - loss: 0.1344 - acc: 0.8216 - val_loss: 0.1291 - val_acc: 0.8372\n"
                }, 
                {
                    "execution_count": 11, 
                    "metadata": {}, 
                    "data": {
                        "text/plain": "<keras.callbacks.History at 0x7fb3527ff320>"
                    }, 
                    "output_type": "execute_result"
                }
            ], 
            "source": "# fit the model\nour_model.fit(x_train, y_train, validation_split=0.3, epochs=50)"
        }, 
        {
            "execution_count": 12, 
            "cell_type": "code", 
            "metadata": {}, 
            "outputs": [
                {
                    "execution_count": 12, 
                    "metadata": {}, 
                    "data": {
                        "text/plain": "array([[ 0.14539784],\n       [ 0.46721506],\n       [ 0.11840925],\n       [ 0.1878207 ],\n       [ 0.6169244 ],\n       [ 0.26975882],\n       [ 0.5654756 ],\n       [ 0.43674445],\n       [ 0.57771873],\n       [-0.        ],\n       [ 0.26605445],\n       [ 1.0505544 ],\n       [ 0.14010903],\n       [ 1.0187408 ],\n       [ 0.7963735 ],\n       [ 0.2326642 ],\n       [ 0.22086307],\n       [ 0.37848157],\n       [ 0.6420942 ],\n       [ 0.36022514],\n       [ 0.49966136],\n       [ 0.41397715],\n       [ 0.6818439 ],\n       [-0.        ],\n       [ 1.0912472 ],\n       [ 0.21246034],\n       [ 0.2966616 ],\n       [ 0.11345077],\n       [ 0.11846373],\n       [ 0.6607886 ],\n       [ 0.40621665],\n       [ 0.23486999],\n       [ 0.57296205],\n       [ 0.19965053],\n       [ 0.07398876],\n       [ 0.1206032 ],\n       [ 0.82940924],\n       [ 1.011603  ],\n       [ 0.1987909 ],\n       [ 0.27040243],\n       [ 0.9978584 ],\n       [ 0.682235  ],\n       [ 0.44623837],\n       [ 0.26182613],\n       [ 0.68731445],\n       [ 0.9453978 ],\n       [-0.        ],\n       [ 0.14353138],\n       [ 0.1986408 ],\n       [ 1.0076275 ],\n       [ 0.24364501],\n       [ 0.24353006],\n       [ 0.2379618 ],\n       [ 0.5703248 ],\n       [ 0.65907586],\n       [ 0.57820183],\n       [ 0.24943691],\n       [ 0.36226603],\n       [ 0.48100328],\n       [ 0.5664621 ],\n       [ 0.22123772],\n       [ 0.564812  ],\n       [ 0.3714705 ],\n       [ 1.0085799 ],\n       [ 0.2669817 ],\n       [ 1.0673348 ],\n       [ 0.25042424],\n       [ 0.5664621 ],\n       [ 0.5194212 ],\n       [ 0.47120076],\n       [ 0.24598011],\n       [ 0.56352323],\n       [ 0.5783287 ],\n       [ 0.68459505],\n       [ 0.3756788 ],\n       [ 0.72692937],\n       [ 0.3834644 ],\n       [ 0.1987204 ],\n       [ 1.0447619 ],\n       [ 0.17604542],\n       [ 0.574302  ],\n       [ 0.15336823],\n       [ 1.014131  ],\n       [ 0.24303663],\n       [ 0.19302267],\n       [ 0.6358199 ],\n       [ 0.1897001 ],\n       [ 0.22119582],\n       [ 0.30416563],\n       [ 0.21257758],\n       [ 0.96280575],\n       [ 0.5767886 ],\n       [ 1.0681995 ],\n       [ 0.21841982],\n       [ 0.70556647],\n       [ 0.30228686],\n       [ 0.80975056],\n       [ 0.7812559 ],\n       [ 1.0296916 ],\n       [ 0.18136343],\n       [ 0.66642505],\n       [ 0.21558006],\n       [ 0.20840822],\n       [ 0.20451832],\n       [ 0.1590546 ],\n       [ 0.21827143],\n       [ 0.11296497],\n       [ 0.20440897],\n       [ 0.18987933],\n       [ 0.26510462],\n       [ 0.5686257 ],\n       [-0.        ],\n       [ 0.214612  ],\n       [ 0.99726856],\n       [ 0.1728288 ],\n       [ 0.26162907],\n       [ 0.292472  ],\n       [-0.        ],\n       [ 0.21572196],\n       [ 0.39418682],\n       [ 1.0831846 ],\n       [ 0.6818451 ],\n       [ 0.1335417 ],\n       [ 0.2042391 ],\n       [ 0.99921143],\n       [ 0.5684802 ],\n       [ 0.292472  ],\n       [ 0.75154126],\n       [ 0.5083425 ],\n       [ 0.8157698 ],\n       [ 0.2119039 ],\n       [ 0.6123371 ],\n       [ 0.2381767 ],\n       [ 0.26661447],\n       [ 0.5712444 ],\n       [ 0.18703613],\n       [ 0.15576607],\n       [-0.        ],\n       [ 0.8963388 ],\n       [ 0.830644  ],\n       [ 0.35965475],\n       [ 0.6654722 ],\n       [ 0.88250875],\n       [ 0.25042424],\n       [ 0.5328578 ],\n       [ 1.0329211 ],\n       [ 1.0309564 ],\n       [ 0.21638751],\n       [ 0.8663336 ],\n       [-0.        ],\n       [ 0.21539968],\n       [ 0.16692263],\n       [ 0.45868647],\n       [ 0.12409589],\n       [ 0.7600434 ],\n       [ 0.15326133],\n       [ 0.7758104 ],\n       [ 0.57812434],\n       [ 0.2782093 ],\n       [ 0.7556006 ],\n       [ 0.42791522],\n       [ 0.8081797 ],\n       [ 0.26831535],\n       [ 0.5833183 ],\n       [ 0.2725292 ],\n       [ 0.9615519 ],\n       [ 0.19877496],\n       [ 0.16695464],\n       [ 0.32494095],\n       [ 0.8712021 ],\n       [ 0.34197402],\n       [ 0.28236982],\n       [ 0.39890012],\n       [ 0.9834906 ],\n       [ 0.7927773 ],\n       [ 0.22132382],\n       [ 0.8010681 ],\n       [ 0.22118184],\n       [ 0.96745646],\n       [ 0.2099782 ],\n       [ 0.1270588 ],\n       [ 0.22938257],\n       [ 0.34492773],\n       [ 0.955914  ],\n       [ 0.18211824],\n       [ 0.3850838 ],\n       [ 0.2268163 ],\n       [ 0.38992077],\n       [ 0.22646493],\n       [ 0.7735661 ],\n       [ 1.0370466 ],\n       [ 0.97072756],\n       [ 0.75777197],\n       [ 0.5039169 ],\n       [ 0.37165007],\n       [ 0.8160627 ],\n       [ 0.30351287],\n       [ 0.80975056],\n       [ 0.78662604],\n       [ 0.22685584],\n       [ 0.41667628],\n       [ 0.20523036],\n       [ 0.15700275],\n       [ 0.18180004],\n       [ 0.79588246],\n       [ 0.2211703 ],\n       [ 0.01840933],\n       [ 0.22121447],\n       [ 0.8476997 ],\n       [ 0.7018399 ],\n       [ 0.25034738],\n       [ 0.24407318],\n       [ 0.23684815],\n       [ 1.0544629 ],\n       [ 0.7789923 ],\n       [ 0.25690916],\n       [ 0.12943113],\n       [ 0.20871025],\n       [ 0.28388938],\n       [ 0.5690809 ],\n       [ 0.5768478 ],\n       [ 0.6720698 ],\n       [ 0.70656943],\n       [ 0.1393097 ],\n       [ 0.43887353],\n       [ 0.5645111 ],\n       [ 0.41945106],\n       [ 0.14072096],\n       [ 0.19308859],\n       [ 0.791806  ],\n       [ 0.35837555],\n       [ 0.1760068 ],\n       [ 0.1589045 ],\n       [ 0.10053177],\n       [ 0.20486042],\n       [ 0.8814713 ],\n       [ 0.56244624],\n       [ 0.6056397 ],\n       [ 0.41171908],\n       [ 0.46797422],\n       [ 0.23847136],\n       [ 0.21526125],\n       [ 0.5952349 ],\n       [ 1.0034395 ],\n       [ 0.58003396],\n       [ 0.41228253],\n       [ 0.3009296 ],\n       [ 0.18737951],\n       [ 0.12128881],\n       [ 0.19302267],\n       [ 0.1984112 ],\n       [ 0.26510462],\n       [ 0.3526951 ],\n       [ 1.0122269 ],\n       [ 0.20956168],\n       [ 0.7212165 ],\n       [ 0.23454216],\n       [ 0.22009635],\n       [ 0.2899654 ],\n       [ 0.751283  ],\n       [ 0.3105512 ],\n       [ 0.63229287],\n       [ 0.18740228],\n       [ 0.3653767 ],\n       [ 0.2433654 ],\n       [ 0.1635589 ],\n       [ 0.2739273 ],\n       [ 0.30660972],\n       [ 0.15879759],\n       [ 0.80273795],\n       [ 0.58187264],\n       [ 0.26510462],\n       [ 0.6003928 ],\n       [ 0.2730044 ],\n       [ 0.8434409 ],\n       [ 1.0090823 ],\n       [ 0.26831535],\n       [ 0.31954286],\n       [ 0.2377215 ],\n       [ 0.7254236 ],\n       [ 0.2393595 ],\n       [ 1.1041484 ],\n       [ 0.39125746],\n       [-0.        ],\n       [ 0.7832762 ],\n       [ 0.8434409 ],\n       [ 0.18782067],\n       [ 1.0419796 ],\n       [ 0.60232985],\n       [ 1.0087276 ],\n       [ 0.25427735],\n       [ 0.3037814 ],\n       [ 0.9911551 ],\n       [ 0.25979635],\n       [ 0.20139727],\n       [ 0.92056   ],\n       [ 1.0133799 ],\n       [ 0.48809016],\n       [ 0.28972787],\n       [ 0.1926392 ],\n       [ 0.1970272 ],\n       [ 0.19307953],\n       [ 0.380578  ],\n       [ 0.76079047],\n       [ 0.20436472],\n       [ 0.14687483],\n       [ 0.2211563 ],\n       [ 0.16357452],\n       [ 0.3692854 ],\n       [ 0.9944749 ],\n       [ 0.60940117],\n       [ 0.19003126],\n       [ 0.07169857],\n       [ 1.0367093 ],\n       [ 0.20407161],\n       [ 0.9133854 ],\n       [ 0.21556845],\n       [ 0.16456813],\n       [ 0.9987339 ],\n       [ 0.1358954 ],\n       [ 1.091123  ],\n       [ 0.42534363],\n       [ 0.3575039 ],\n       [ 0.29578206],\n       [ 0.28250545],\n       [ 0.44524172],\n       [ 0.6961852 ],\n       [ 1.0356004 ],\n       [ 0.5639295 ],\n       [ 0.9864005 ],\n       [ 0.12976834]], dtype=float32)"
                    }, 
                    "output_type": "execute_result"
                }
            ], 
            "source": "y_predictions = our_model.predict(x_test[['Pclass','Sex','Age','SibSp','Parch','Fare']], verbose=0)\ny_predictions"
        }, 
        {
            "execution_count": 13, 
            "cell_type": "code", 
            "metadata": {}, 
            "outputs": [], 
            "source": "pred_survived = {}\nfor pred in zip(y_predictions, x_test['PassengerId']):\n    if pred[0] > 0.7:\n        pred_survived[pred[1]] = 1\n    else:\n        pred_survived[pred[1]] = 0"
        }, 
        {
            "execution_count": 14, 
            "cell_type": "code", 
            "metadata": {}, 
            "outputs": [], 
            "source": "final_data = pd.DataFrame(list(pred_survived.items()),columns=['PassengerId','Survived'])"
        }, 
        {
            "execution_count": 15, 
            "cell_type": "code", 
            "metadata": {}, 
            "outputs": [
                {
                    "ename": "NameError", 
                    "evalue": "name 'index' is not defined", 
                    "traceback": [
                        "\u001b[0;31m---------------------------------------------------------------------------\u001b[0m", 
                        "\u001b[0;31mNameError\u001b[0m                                 Traceback (most recent call last)", 
                        "\u001b[0;32m<ipython-input-15-f244ce518d19>\u001b[0m in \u001b[0;36m<module>\u001b[0;34m\u001b[0m\n\u001b[0;32m----> 1\u001b[0;31m \u001b[0mfinal_data\u001b[0m\u001b[0;34m.\u001b[0m\u001b[0mto_csv\u001b[0m\u001b[0;34m(\u001b[0m\u001b[0mindex\u001b[0m\u001b[0;34m)\u001b[0m\u001b[0;34m\u001b[0m\u001b[0;34m\u001b[0m\u001b[0m\n\u001b[0m", 
                        "\u001b[0;31mNameError\u001b[0m: name 'index' is not defined"
                    ], 
                    "output_type": "error"
                }
            ], 
            "source": "final_data.to_csv(index)"
        }, 
        {
            "execution_count": null, 
            "cell_type": "code", 
            "metadata": {}, 
            "outputs": [], 
            "source": ""
        }
    ], 
    "metadata": {
        "kernelspec": {
            "display_name": "Python 3.6", 
            "name": "python3", 
            "language": "python"
        }, 
        "language_info": {
            "mimetype": "text/x-python", 
            "nbconvert_exporter": "python", 
            "version": "3.6.8", 
            "name": "python", 
            "file_extension": ".py", 
            "pygments_lexer": "ipython3", 
            "codemirror_mode": {
                "version": 3, 
                "name": "ipython"
            }
        }
    }, 
    "nbformat": 4
}